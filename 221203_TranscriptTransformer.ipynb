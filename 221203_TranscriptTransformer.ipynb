{
 "cells": [
  {
   "cell_type": "code",
   "execution_count": 1,
   "metadata": {},
   "outputs": [],
   "source": [
    "import openai\n",
    "import math\n",
    "import time\n",
    "import matplotlib.pyplot as plt\n",
    "import whisper"
   ]
  },
  {
   "cell_type": "code",
   "execution_count": 2,
   "metadata": {},
   "outputs": [
    {
     "ename": "",
     "evalue": "",
     "output_type": "error",
     "traceback": [
      "\u001b[1;31mThe Kernel crashed while executing code in the the current cell or a previous cell. Please review the code in the cell(s) to identify a possible cause of the failure. Click <a href='https://aka.ms/vscodeJupyterKernelCrash'>here</a> for more info. View Jupyter <a href='command:jupyter.viewOutput'>log</a> for further details."
     ]
    },
    {
     "ename": "",
     "evalue": "",
     "output_type": "error",
     "traceback": [
      "\u001b[1;31mCanceled future for execute_request message before replies were done"
     ]
    }
   ],
   "source": [
    "#this code takes in the audio file and writes it to a txt file. \n",
    "def GetTranscriptFromAudio(path, audiofilename):\n",
    "\n",
    "    # Setup, define, and run Whisper\n",
    "    #options = whisper.DecodingOptions(language= 'en')\n",
    "    #model = whisper.load_model(\"base\")\n",
    "    #result = model.transcribe(\"chris.wav\")\n",
    "   \n",
    "    \n",
    "    #for i in audiofilename.segments: \n",
    "        #result += model.transcribe(path+audiofilename[i]) + \"\\n\\n\"\n",
    "   \n",
    "    # write the content to a text file\n",
    "    #F = open(path+ audiofilename + \".txt\", \"w\")\n",
    "    #F.write(result[\"text\"])\n",
    "    #F.close()\n",
    "    model = whisper.load_model(\"base\")\n",
    "    result = model.transcribe(path + audiofilename)\n",
    "    F = open(path + audiofilename + \".txt\", \"w\")\n",
    "    F.write(result[\"text\"])\n",
    "    F.close()\n",
    "    # Return the transcript\n",
    "    transcript_text= result[\"text\"]\n",
    "    return transcript_text\n",
    "\n",
    "path = '/Users/desot1/Documents/GitHub/DeSci-Experiments/'\n",
    "GetTranscriptFromAudio(path, \"carla.wav\")\n"
   ]
  },
  {
   "cell_type": "code",
   "execution_count": null,
   "metadata": {},
   "outputs": [],
   "source": [
    "# This function takes the text input from the youtube video and uses GPT3 to turn it into a cohesive \n",
    "# series of thoughts. Those can later be turned into a twitter thread\n",
    "def CreateModularContent(openai, transcript_text, path):\n",
    "\n",
    "    #META: Ways to do this\n",
    "    #Break this into large chunks via the diarizer (comm calls) -> Summarize the one large chunk. \n",
    "    #Mechanically break into slightly more reasonable chunks by ending at end of sentence. \n",
    "    #  Separate into thoughts -> summarize each paragraph. + Summarize paragraphs. \n",
    "    #Manual\n",
    "    #Other? The thoughts would be training."
   ]
  }
 ],
 "metadata": {
  "kernelspec": {
   "display_name": "Python 3.9.13 ('base')",
   "language": "python",
   "name": "python3"
  },
  "language_info": {
   "codemirror_mode": {
    "name": "ipython",
    "version": 3
   },
   "file_extension": ".py",
   "mimetype": "text/x-python",
   "name": "python",
   "nbconvert_exporter": "python",
   "pygments_lexer": "ipython3",
   "version": "3.9.15"
  },
  "orig_nbformat": 4,
  "vscode": {
   "interpreter": {
    "hash": "15dfa28357c383de2362b161dae311c2d38370c3e7fa61c51d1dc413afafed6b"
   }
  }
 },
 "nbformat": 4,
 "nbformat_minor": 2
}
