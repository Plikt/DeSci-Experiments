{
 "cells": [
  {
   "cell_type": "code",
   "execution_count": null,
   "metadata": {},
   "outputs": [],
   "source": []
  }
 ],
 "metadata": {
  "kernelspec": {
   "display_name": "Python 3.9.13 ('base')",
   "language": "python",
   "name": "python3"
  },
  "language_info": {
   "name": "python",
   "version": "3.9.15"
  },
  "vscode": {
   "interpreter": {
    "hash": "15dfa28357c383de2362b161dae311c2d38370c3e7fa61c51d1dc413afafed6b"
   }
  }
 },
 "nbformat": 4,
 "nbformat_minor": 5
}
